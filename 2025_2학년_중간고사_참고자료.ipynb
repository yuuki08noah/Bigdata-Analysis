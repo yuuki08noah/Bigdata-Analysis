{
  "nbformat": 4,
  "nbformat_minor": 0,
  "metadata": {
    "colab": {
      "provenance": [],
      "include_colab_link": true
    },
    "kernelspec": {
      "name": "python3",
      "display_name": "Python 3"
    },
    "language_info": {
      "name": "python"
    }
  },
  "cells": [
    {
      "cell_type": "markdown",
      "metadata": {
        "id": "view-in-github",
        "colab_type": "text"
      },
      "source": [
        "<a href=\"https://colab.research.google.com/github/yuuki08noah/Bigdata-Analysis/blob/master/2025_2%ED%95%99%EB%85%84_%EC%A4%91%EA%B0%84%EA%B3%A0%EC%82%AC_%EC%B0%B8%EA%B3%A0%EC%9E%90%EB%A3%8C.ipynb\" target=\"_parent\"><img src=\"https://colab.research.google.com/assets/colab-badge.svg\" alt=\"Open In Colab\"/></a>"
      ]
    },
    {
      "cell_type": "markdown",
      "source": [
        "1. AI의 문제 해결 방식 ( PPT 10 )\n",
        "2. 빅데이터의 특징 ( PPT 15 )\n",
        "3. 데이터 수집 프로세스( PPT 21 )\n",
        "4. 정형, 반정형, 비정형 데이터 ( PPT 22, 23 )\n",
        "5. 데이터 수집 기술 ( PPT 24 )\n",
        "6. DataFrame ( PPT 25, 26 )\n",
        "7. pd.read_html( PPT 28 )\n",
        "8. 데이터변환( PPT 39, 40 )\n",
        "9. 이상데이터 시각화( PPT 54 )\n"
      ],
      "metadata": {
        "id": "LCyMHLrLbBM7"
      }
    },
    {
      "cell_type": "code",
      "source": [
        "import pandas as pd\n",
        "url = 'https://www.koreabaseball.com/Record/Player/HitterBasic/BasicOld.aspx'\n",
        "tables = pd.read_html( url )\n",
        "tables[0].to_excel(\"KBO_타자기록.xlsx\")\n",
        "df = pd.DataFrame( tables[0] )\n",
        "print( df )"
      ],
      "metadata": {
        "id": "v4ShqU2uKR9p"
      },
      "execution_count": null,
      "outputs": []
    },
    {
      "cell_type": "code",
      "source": [
        "# 딕셔너리로 데이터프레임 만들기\n",
        "# 1. 다음 딕셔너리를 이용해 데이터 프레임을 생성하세요.\n",
        "data = {\n",
        "    '이름': ['김철수', '이영희', '박민수'],\n",
        "    '성별': ['남', '여', '남'],\n",
        "    '나이': [20, 22, 21]\n",
        "}\n",
        "\n",
        "# 2. 다음과 같은 딕셔너리를 이용해 데이터 프레임을 생성하세요.\n",
        "data = {\n",
        "    'Country': ['Korea', 'Japan', 'China', 'USA'],\n",
        "    'Capital': ['Seoul', 'Tokyo', 'Beijing', 'Washington D.C.'],\n",
        "    'Population (M)': [51, 126, 144, 331]\n",
        "}"
      ],
      "metadata": {
        "id": "NCU8FdzdbGEx"
      },
      "execution_count": null,
      "outputs": []
    },
    {
      "cell_type": "code",
      "source": [
        " # 다음 딕셔너리를 데이터프레임으로 만들고, csv 파일로 저장후 다시 불러오는 코드를 작성하시오.\n",
        " data = {\n",
        "    'year':[2016, 2017, 2018],\n",
        "    'GDP rate': [2.8, 3.1, 3.0],\n",
        "    'GDP': ['1.637M', '1.73M', '1.83M' ]\n",
        "}\n"
      ],
      "metadata": {
        "id": "BZ4fkKSYbrBQ"
      },
      "execution_count": null,
      "outputs": []
    },
    {
      "cell_type": "markdown",
      "source": [
        "**1. head() 사용**\n",
        "*   문제 1-1 tips 데이터프레임에서 처음 5개의 행을 출력하세요.\n",
        "*   문제 1-2 tips 데이터프레임에서 처음 10개의 행을 출력하세요.\n",
        "\n",
        "**2. tail() 사용**\n",
        "*   문제 2-1 tips 데이터프레임에서 마지막 5개의 행을 출력하세요.\n",
        "*   문제 2-2 tips 데이터프레임에서 마지막 3개의 행을 출력하세요.\n",
        "\n",
        "**3. shape 사용**\n",
        "*   문제 3-1 tips 데이터프레임의 행의 개수와 열의 개수를 출력하세요.\n",
        "*   문제 3-2 tips 데이터프레임의 총 데이터 개수를 구하세요.\n",
        "힌트: shape의 값을 곱하면 총 데이터 개수를 구할 수 있습니다.\n",
        "\n",
        "**4. info() 사용**\n",
        "*   문제 4-1 tips 데이터프레임의 데이터 타입과 결측치 개수를 확인하세요.\n",
        "*   문제 4-2 각 열의 데이터 타입을 출력하세요.\n",
        "\n",
        "**5. describe() 사용**\n",
        "*   문제 5-1 tips 데이터프레임에서 기술 통계 요약값(평균, 표준편차 등)을 출력하세요.\n",
        "*   문제 5-2 total_bill, tip의 평균값과 중앙값을 출력하세요.\n",
        "\n",
        "**6. corr() 사용**\n",
        "*   문제 6-1 tips 데이터프레임에서 각 수치형 열 간의 상관 계수를 출력하세요.\n",
        "*   문제 6-2 total_bill과 tip의 상관 계수를 출력하세요.\n",
        "\n",
        "**7. nunique() 사용**\n",
        "*   문제 7-1 tips 데이터프레임의 각 열에서 고유값의 개수를 출력하세요.\n",
        "*   문제 7-2 day 열의 고유값 개수를 출력하세요.\n",
        "\n",
        "**8. value_counts() 사용**\n",
        "*   문제 8-1 day 열의 값별 빈도수를 출력하세요.\n",
        "*   문제 8-2 sex 열의 값별 빈도수를 출력하세요.\n"
      ],
      "metadata": {
        "id": "vnp6FR-JmNEP"
      }
    },
    {
      "cell_type": "code",
      "source": [
        "# 탐색적 데이터 분석(EDA)\n",
        "import pandas as pd\n",
        "import seaborn as sns\n",
        "tips = sns.load_dataset(\"tips\")\n",
        "print( tips.shape )\n",
        "print( tips.info() )"
      ],
      "metadata": {
        "id": "AhRfxWR5jIyj"
      },
      "execution_count": null,
      "outputs": []
    },
    {
      "cell_type": "code",
      "source": [
        "tips['smoker'] = tips['smoker'].astype('str')\n",
        "tips.info()"
      ],
      "metadata": {
        "id": "f1E1vKBdWFOl"
      },
      "execution_count": null,
      "outputs": []
    },
    {
      "cell_type": "code",
      "source": [
        "# 데이터 추출 연습\n",
        "# 열단위, 행단위( index, 행번호 이해 필요)\n",
        "\n",
        "\n",
        "\n",
        "# 조건 이용 추출\n",
        "\n",
        "\n",
        "\n",
        "\n",
        "# 파생 변수 만들기\n",
        "\n",
        "\n",
        "# 데이터 변"
      ],
      "metadata": {
        "id": "AZHnrPh0sGat"
      },
      "execution_count": null,
      "outputs": []
    },
    {
      "cell_type": "code",
      "source": [],
      "metadata": {
        "id": "oqbrfgmNfT7T"
      },
      "execution_count": null,
      "outputs": []
    },
    {
      "cell_type": "code",
      "source": [
        "# 가격을 int로\n",
        "\n",
        "# 칼로리를 float 로\n",
        "\n"
      ],
      "metadata": {
        "id": "9pIoVa5tRLaE"
      },
      "execution_count": null,
      "outputs": []
    },
    {
      "cell_type": "code",
      "source": [
        "# 할인가 컬럼 추가\n",
        "discount = 0.2\n",
        "\n"
      ],
      "metadata": {
        "id": "UoOng0JORuo8"
      },
      "execution_count": null,
      "outputs": []
    },
    {
      "cell_type": "code",
      "source": [
        "# 1행 삭제\n",
        "\n",
        "# 칼로리 삭제"
      ],
      "metadata": {
        "id": "Ace3vy4eR6m8"
      },
      "execution_count": null,
      "outputs": []
    },
    {
      "cell_type": "code",
      "source": [
        "# 결측값으로 추가, 원산지 컬럼을 만들고 결측값(NaN)으로 대입\n",
        "\n",
        "# 아메리카노의 원산는 '콜롬비아' 데이터 추가\n",
        "\n",
        "# 리스트 형태로 데이터(행) 추가 : loc 사용, 인덱스는 '시즌', 데이터는 ['크리스마스라떼', 6000, 300, 4800, '한국']\n",
        "\n",
        "# 딕셔너리 형태로 데이터(행) 추가 : loc 사용, 인덱스는 7, 데이터는 {'메뉴':'딴짓커피', '가격':2000, '칼로리':20, '할인가':1600, '원산지':'케냐'}"
      ],
      "metadata": {
        "id": "Tkt0jYl0SEad"
      },
      "execution_count": null,
      "outputs": []
    },
    {
      "cell_type": "code",
      "source": [
        "# 인덱스 기준 (기본값 ascending=True) 정렬\n",
        "\n",
        "\n",
        "# 메뉴 기준 정렬\n",
        "\n",
        "\n",
        "# 가격과 메뉴 기준 정렬\n",
        "\n",
        "# 인덱스 새로 만들기 drop=True\n"
      ],
      "metadata": {
        "id": "pS2izoAoSsnL"
      },
      "execution_count": null,
      "outputs": []
    },
    {
      "cell_type": "code",
      "source": [
        "# 칼로리가 50 미만 데이터\n",
        "\n",
        "# 칼로리가 50 이상 데이터 ( 조건문에  ~  붙이는 방법 )\n",
        "\n",
        "# 가격이 5000 이상이고 칼로리가 100 초과인 데이터\n",
        "\n",
        "\n",
        "# 메뉴에 '녹차' 가 있는 경우\n",
        "\n",
        "# 메뉴에 '녹차' '카푸치노' '카페라떼' 가 있는 경우\n",
        "\n"
      ],
      "metadata": {
        "id": "ppT-D94fTBrc"
      },
      "execution_count": null,
      "outputs": []
    },
    {
      "cell_type": "code",
      "source": [
        "# 데이터 준비\n",
        "import pandas as pd\n",
        "import numpy as np\n",
        "data = {\n",
        "    \"메뉴\":['아메리카노', '카페라떼', '카페모카', '카푸치노', '에스프레소', '밀크티', '녹차', '딴짓커피'],\n",
        "    \"가격\":[4500.0, 5000.0, 5500.0, 5000.0, 4000.0, 5900.0, 5300.0, 2000 ],\n",
        "    \"칼로리\":[10, 110, 250, 110, 20, 210, 0, 20],\n",
        "    \"원산지\":['콜롬비아', np.nan, '과테말라','과테말라', np.nan, np.nan, np.nan, np.nan]\n",
        "}\n",
        "df = pd.DataFrame(data)\n",
        "df.info()"
      ],
      "metadata": {
        "id": "4TcUXnkifC5D"
      },
      "execution_count": null,
      "outputs": []
    },
    {
      "cell_type": "markdown",
      "metadata": {
        "id": "1P9xjj8YkSBf"
      },
      "source": [
        "## 결측치 처리"
      ]
    },
    {
      "cell_type": "code",
      "source": [
        "df.isnull()"
      ],
      "metadata": {
        "id": "cX60WBVRDfo8"
      },
      "execution_count": null,
      "outputs": []
    },
    {
      "cell_type": "code",
      "metadata": {
        "id": "dZ5Ep3LQDxi1"
      },
      "source": [
        "# 컬럼별 결측치 확인\n",
        "df.isnull().sum()"
      ],
      "execution_count": null,
      "outputs": []
    },
    {
      "cell_type": "code",
      "source": [
        "# 컬럼별 결측치 확인\n",
        "df.isna().sum()"
      ],
      "metadata": {
        "id": "TT7zRmaeCria"
      },
      "execution_count": null,
      "outputs": []
    },
    {
      "cell_type": "code",
      "metadata": {
        "id": "RGdmKLSbDxla"
      },
      "source": [
        "# 결측값 채우기\n",
        "df['원산지'].fillna('코스타리카', inplace=True)\n",
        "#df['원산지']= df['원산지'].fillna('코스타리카')\n",
        "df"
      ],
      "execution_count": null,
      "outputs": []
    },
    {
      "cell_type": "code",
      "metadata": {
        "id": "QUNH3Srok5As"
      },
      "source": [
        "# 문자 변경 : 아메리카노 -> 룽고, 녹차 -> 그린티\n",
        "df.replace('아메리카노', '룽고', inplace=True)\n",
        "df.replace('녹차','그린티', inplace=True)\n",
        "df"
      ],
      "execution_count": null,
      "outputs": []
    },
    {
      "cell_type": "code",
      "metadata": {
        "id": "B9CB-PGxFiCl"
      },
      "source": [
        "change = {'룽고':'아메리카노', '그린티':'녹차'}\n",
        "df.replace(change, inplace=True)\n",
        "df"
      ],
      "execution_count": null,
      "outputs": []
    },
    {
      "cell_type": "code",
      "metadata": {
        "id": "QHrYVNM_78lu"
      },
      "source": [
        "# loc로 값 변경하기\n",
        "df.loc[6, '원산지'] = '대한민국'\n",
        "df.tail(3)"
      ],
      "execution_count": null,
      "outputs": []
    },
    {
      "cell_type": "code",
      "metadata": {
        "id": "dyuMEZ9M8TGa"
      },
      "source": [
        "# 이벤트가 전체 1000으로 변경\n",
        "df.loc[1:2, '이벤트가'] = 1000\n",
        "df.head()"
      ],
      "execution_count": null,
      "outputs": []
    },
    {
      "cell_type": "code",
      "source": [
        "df.to_csv(\"cafe4.csv\", index=False)"
      ],
      "metadata": {
        "id": "Mh7bgXOsam5N"
      },
      "execution_count": null,
      "outputs": []
    },
    {
      "cell_type": "markdown",
      "source": [
        "## 문자열"
      ],
      "metadata": {
        "id": "Ppl4bKyhVpg3"
      }
    },
    {
      "cell_type": "code",
      "source": [
        "import pandas as pd\n",
        "df = pd.DataFrame({'A': ['데이터 분석', '기본 학습서', '퇴근 후 열공'],\n",
        "                   'B': [10, 20, 30],\n",
        "                   'C': ['ab cd', 'AB CD', 'ab cd '] } )\n",
        "df"
      ],
      "metadata": {
        "id": "60iKGhzTWn51"
      },
      "execution_count": null,
      "outputs": []
    },
    {
      "cell_type": "code",
      "source": [
        "df['A'] = df['A'].replace('분석', '시각화')\n",
        "df"
      ],
      "metadata": {
        "id": "60fjxAGeWL_i"
      },
      "execution_count": null,
      "outputs": []
    },
    {
      "cell_type": "code",
      "source": [
        "df['A'] = df['A'].str.replace('분석', '시각화')\n",
        "df"
      ],
      "metadata": {
        "id": "5yjV9qvCXSKD"
      },
      "execution_count": null,
      "outputs": []
    },
    {
      "cell_type": "code",
      "source": [
        "df['B'] = df['B'].replace(10, 100)\n",
        "df"
      ],
      "metadata": {
        "id": "e8f9sGv5WEjh"
      },
      "execution_count": null,
      "outputs": []
    },
    {
      "cell_type": "code",
      "source": [
        "# 에러\n",
        "# df['B'] = df['B'].str.replace(20, 200)\n",
        "# print(df)"
      ],
      "metadata": {
        "id": "tlzY5qzVWElz"
      },
      "execution_count": null,
      "outputs": []
    },
    {
      "cell_type": "code",
      "source": [
        "# 문자열 분리\n",
        "df['A'].str.split()"
      ],
      "metadata": {
        "id": "ywrWca_AWEoC"
      },
      "execution_count": null,
      "outputs": []
    },
    {
      "cell_type": "code",
      "source": [
        "df['A'].str.split()[0]"
      ],
      "metadata": {
        "id": "Uq5tvhKTWEql"
      },
      "execution_count": null,
      "outputs": []
    },
    {
      "cell_type": "code",
      "source": [
        "df['D'] = df['A'].str.split().str[0]\n",
        "df"
      ],
      "metadata": {
        "id": "X5ZM42Q3WEvB"
      },
      "execution_count": null,
      "outputs": []
    },
    {
      "cell_type": "code",
      "source": [
        "# 문자 검색\n",
        "df['A'].str.contains('기본')"
      ],
      "metadata": {
        "id": "lOIKsV4bWEyE"
      },
      "execution_count": null,
      "outputs": []
    },
    {
      "cell_type": "code",
      "source": [
        "df['기본포함유무'] = df['A'].str.contains('기본')\n",
        "df"
      ],
      "metadata": {
        "id": "mhyJfGtHb7iV"
      },
      "execution_count": null,
      "outputs": []
    },
    {
      "cell_type": "code",
      "source": [
        "menu = pd.Series(['맛난버거 세트', '매운 치킨버거', '더블 치즈버거'])\n",
        "menu.isin(['맛난버거 세트', '더블 치즈버거'])"
      ],
      "metadata": {
        "id": "czuN-m0fBsrZ"
      },
      "execution_count": null,
      "outputs": []
    },
    {
      "cell_type": "code",
      "source": [
        "menu.str.contains('세트')"
      ],
      "metadata": {
        "id": "G84AzAJ9Bs0H"
      },
      "execution_count": null,
      "outputs": []
    },
    {
      "cell_type": "code",
      "source": [
        "df['문자길이'] = df['A'].str.len()\n",
        "df"
      ],
      "metadata": {
        "id": "vM6YVDfScIFE"
      },
      "execution_count": null,
      "outputs": []
    },
    {
      "cell_type": "code",
      "source": [
        "'AB cd' == 'ab CD'"
      ],
      "metadata": {
        "id": "mWZU6-sxc6UY"
      },
      "execution_count": null,
      "outputs": []
    },
    {
      "cell_type": "code",
      "source": [
        "df['C'] = df['C'].str.lower()\n",
        "df['C']"
      ],
      "metadata": {
        "id": "tTPHWQTFcRlw"
      },
      "execution_count": null,
      "outputs": []
    },
    {
      "cell_type": "code",
      "source": [
        "df['C'] = df['C'].str.upper()\n",
        "df['C']"
      ],
      "metadata": {
        "id": "i6HwdFOkcxf_"
      },
      "execution_count": null,
      "outputs": []
    },
    {
      "cell_type": "code",
      "source": [
        "df['C'] == 'AB CD'"
      ],
      "metadata": {
        "id": "ALcJ9DHYewaW"
      },
      "execution_count": null,
      "outputs": []
    },
    {
      "cell_type": "code",
      "source": [
        "df['C'] = df['C'].str.lower()\n",
        "df['C'] = df['C'].str.replace(\" \",\"\")\n",
        "df['C']"
      ],
      "metadata": {
        "id": "hnRs8QmgdOUi"
      },
      "execution_count": null,
      "outputs": []
    },
    {
      "cell_type": "code",
      "source": [
        "df['C'].str[1:3]"
      ],
      "metadata": {
        "id": "yAOR6GpNWft6"
      },
      "execution_count": null,
      "outputs": []
    },
    {
      "cell_type": "code",
      "source": [
        "df['C'][1:3]"
      ],
      "metadata": {
        "id": "hanV9aJEWNIR"
      },
      "execution_count": null,
      "outputs": []
    },
    {
      "cell_type": "markdown",
      "metadata": {
        "id": "2u2hAx2lk2ao"
      },
      "source": [
        "## 내장함수\n",
        "- 데이터 핸들링을 위한 판다스 기초1(EDA) 부분에서 일부 내장함수를 학습했고, 그외 함수에 대해 살펴봄"
      ]
    },
    {
      "cell_type": "code",
      "source": [
        "df = pd.read_csv(\"cafe4.csv\")\n",
        "df.head(2)"
      ],
      "metadata": {
        "id": "nM7K7xx_axA9"
      },
      "execution_count": null,
      "outputs": []
    },
    {
      "cell_type": "code",
      "metadata": {
        "id": "7hLL1VGeroVK"
      },
      "source": [
        "print(len(df))\n",
        "print(df.shape[0])"
      ],
      "execution_count": null,
      "outputs": []
    },
    {
      "cell_type": "code",
      "source": [
        "cond = df['가격'] > 5000\n",
        "\n",
        "#sum으로 조건에 맞는 개수 구하기\n",
        "print(sum(cond))\n",
        "\n",
        "#len으로 조건에 맞는 개수 구하기\n",
        "print(len(df[cond]))"
      ],
      "metadata": {
        "id": "gFnudhFuOrG6"
      },
      "execution_count": null,
      "outputs": []
    },
    {
      "cell_type": "code",
      "source": [
        "df.sum(numeric_only=True)"
      ],
      "metadata": {
        "id": "hHimepThxe3_"
      },
      "execution_count": null,
      "outputs": []
    },
    {
      "cell_type": "code",
      "source": [
        "df.sum(axis=1, numeric_only=True)"
      ],
      "metadata": {
        "id": "3UiMOCqwyCoj"
      },
      "execution_count": null,
      "outputs": []
    },
    {
      "cell_type": "code",
      "metadata": {
        "id": "d6XCTaY4TfEK"
      },
      "source": [
        "print(\"최대값: \",df['가격'].max())\n",
        "print(\"최소값: \",df['가격'].min())\n",
        "print(\"평균값: \",df['가격'].mean())\n",
        "print(\"중앙값: \",df['가격'].median())\n",
        "print(\"합계: \",df['가격'].sum())\n",
        "print(\"표준편차: \",df['가격'].std())\n",
        "print(\"분산: \",df['가격'].var())"
      ],
      "execution_count": null,
      "outputs": []
    },
    {
      "cell_type": "code",
      "metadata": {
        "id": "IO6WZjwWhWFm"
      },
      "source": [
        "# 분위수\n",
        "print(\"분위수 25% 값\", df['가격'].quantile(.25))\n",
        "print(\"분위수 75% 값\", df['가격'].quantile(.75))"
      ],
      "execution_count": null,
      "outputs": []
    },
    {
      "cell_type": "code",
      "metadata": {
        "id": "pGc1v9rsjRsG"
      },
      "source": [
        "# 하위 25% 데이터\n",
        "cond = df['가격'].quantile(.25) > df['가격']\n",
        "df[cond]"
      ],
      "execution_count": null,
      "outputs": []
    },
    {
      "cell_type": "code",
      "metadata": {
        "id": "5HPN7rDtisI3"
      },
      "source": [
        "# 상위 25% 데이터\n",
        "cond = df['가격'].quantile(.75) < df['가격']\n",
        "df[cond]"
      ],
      "execution_count": null,
      "outputs": []
    },
    {
      "cell_type": "code",
      "metadata": {
        "id": "dtg3bAmRpFGz"
      },
      "source": [
        "# 최빈값 구하기\n",
        "df['원산지'].mode()[0]"
      ],
      "execution_count": null,
      "outputs": []
    },
    {
      "cell_type": "code",
      "source": [
        "df['가격'].idxmax()"
      ],
      "metadata": {
        "id": "rflRYfpDAvcW"
      },
      "execution_count": null,
      "outputs": []
    },
    {
      "cell_type": "code",
      "source": [
        "max_ind = df['가격'].idxmax()\n",
        "df.loc[max_ind]"
      ],
      "metadata": {
        "id": "78RDV-yeA1Ul"
      },
      "execution_count": null,
      "outputs": []
    },
    {
      "cell_type": "code",
      "source": [
        "# df.loc[max_ind, '메뉴'] # 추천 방법\n",
        "df.loc[max_ind]['메뉴'] # 다른 방법"
      ],
      "metadata": {
        "id": "3WcJJuLTbyDj"
      },
      "execution_count": null,
      "outputs": []
    },
    {
      "cell_type": "code",
      "source": [
        "df.nlargest(3, '가격')"
      ],
      "metadata": {
        "id": "YwMttFOwXA93"
      },
      "execution_count": null,
      "outputs": []
    },
    {
      "cell_type": "code",
      "source": [
        "df.nsmallest(2, '가격')"
      ],
      "metadata": {
        "id": "NvhL61JlFwKE"
      },
      "execution_count": null,
      "outputs": []
    },
    {
      "cell_type": "code",
      "metadata": {
        "id": "QeLU60tFmNj4"
      },
      "source": [
        "# apply 적용해서 새로운 컬럼 생성 (칼로리 컬럼 활용)\n",
        "def cal(x):\n",
        "    if x >= 100:\n",
        "        return \"No\"\n",
        "    else:\n",
        "        return \"Yes\"\n",
        "\n",
        "df['먹어도 될까요'] = df['칼로리'].apply(cal)\n",
        "# df['먹어도 될까요'] = df['칼로리'].apply(lambda x: 'No' if x >= 100 else 'Yes')\n",
        "df"
      ],
      "execution_count": null,
      "outputs": []
    },
    {
      "cell_type": "markdown",
      "source": [
        "**[연습문제]**\n",
        "\n",
        "데이터 파일 다운로드 >>  [cafe_review.csv](https://drive.google.com/file/d/1jyxbuLb55gUD0UcW85KOYJgdNQvS90q8/view?usp=sharing)\n",
        "\n",
        "1. 결측치 처리 (isnull, fillna, loc 등)\n",
        "전체 결측치가 존재하는 열의 개수를 출력하세요.\n",
        "\n",
        "원산지 컬럼의 결측값을 \"케냐\"로 채우세요.\n",
        "\n",
        "이벤트가 컬럼의 결측값을 3000으로 채우세요.\n",
        "\n",
        "카푸치노의 원산지를 \"베트남\"으로 수정하세요. (loc 사용)\n",
        "\n",
        "칼로리가 100 이상인 메뉴에 대해 이벤트가를 2000으로 변경하세요.\n"
      ],
      "metadata": {
        "id": "wbhcA9U8VfPs"
      }
    },
    {
      "cell_type": "code",
      "source": [],
      "metadata": {
        "id": "tnGnUgniheLR"
      },
      "execution_count": null,
      "outputs": []
    },
    {
      "cell_type": "markdown",
      "source": [
        "2. 문자열 처리 (replace, split, contains, str.len 등)\n",
        "'아메리카노'를 '룽고', '녹차'를 '그린티'로 바꾸세요.\n",
        "\n",
        "변경한 이름을 다시 원래대로 되돌리세요.\n",
        "\n",
        "메뉴 이름 중 '카페'가 포함된 메뉴는 어떤 것인지 Boolean Series로 확인하세요.\n",
        "\n",
        "메뉴 이름의 글자 수를 나타내는 메뉴길이 컬럼을 추가하세요.\n",
        "\n",
        "글자 수가 4자 이상인 메뉴만 필터링해서 출력하세요."
      ],
      "metadata": {
        "id": "gLtWl-iWea1R"
      }
    },
    {
      "cell_type": "code",
      "source": [],
      "metadata": {
        "id": "5Fkt0_Y0hfGA"
      },
      "execution_count": null,
      "outputs": []
    },
    {
      "cell_type": "markdown",
      "source": [
        "3. 내장 함수 및 통계 함수 활용\n",
        "가격의 최댓값, 최솟값, 평균값, 중앙값을 각각 출력하세요.\n",
        "\n",
        "가격의 25% 분위수 이하인 메뉴만 출력하세요.\n",
        "\n",
        "이벤트가 컬럼의 최빈값을 구하세요.\n",
        "\n",
        "칼로리가 100 이상이면 \"No\", 아니면 \"Yes\"를 나타내는 먹어도 될까요 컬럼을 추가하세요. (apply)\n",
        "\n",
        "가격 상위 3개 메뉴의 이름과 가격을 출력하세요."
      ],
      "metadata": {
        "id": "pDtNibf9efK6"
      }
    },
    {
      "cell_type": "code",
      "source": [],
      "metadata": {
        "id": "14T74WWehfqZ"
      },
      "execution_count": null,
      "outputs": []
    },
    {
      "cell_type": "markdown",
      "metadata": {
        "id": "xJUrwH54k7DY"
      },
      "source": [
        "## 그룹핑"
      ]
    },
    {
      "cell_type": "markdown",
      "source": [
        "[데이터 링크 ](https://drive.google.com/drive/folders/1mtDnW4uoTrd4byTBx46v0prpUPfAMmbP?usp=drive_link)\n",
        "1. exam_sample.csv\n",
        "2. mpg.csv\n"
      ],
      "metadata": {
        "id": "lC-NjLeVzilr"
      }
    },
    {
      "cell_type": "code",
      "source": [
        "import pandas as pd\n",
        "import numpy as np\n",
        "\n",
        "exam = pd.read_csv( '/content/drive/MyDrive/exam_sample.csv', encoding='euc-kr')\n",
        "exam.info()"
      ],
      "metadata": {
        "id": "D8esoxyA0YC6"
      },
      "execution_count": null,
      "outputs": []
    },
    {
      "cell_type": "code",
      "source": [
        "exam['math'].groupby(exam['class']).mean()\n",
        "exam.groupby('class')['math'].mean()\n",
        "exam.groupby('class').agg( mean_math=('math', 'mean'))\n",
        "\n",
        "# [ 연습문제 ] 평균점수가 40미만인 그룹들의 데이터를 출력하라\n"
      ],
      "metadata": {
        "id": "a4aSaNOCzhtL"
      },
      "execution_count": null,
      "outputs": []
    },
    {
      "cell_type": "markdown",
      "source": [
        "**MPG 데이터 분석**\n",
        "\n",
        "*   어떤 차종의 도시 연비가 높은지 비교 : category( 자동차 7종류 ), cty(도시연비) - 카테고리별 도시연비 평균을 내림차순으로 정렬\n",
        "*   어떤 회사 자동차의 hwy(고속도로연비)가 높은지 알아보려고 한다. hwy평균이 가장 높은 회사 세 곳을 출력하시오.\n",
        "*   어떤 회사에서 ‘compact’차종을 가장 많이 생산하지는지 알아보려고 한다. 회사별 ‘compact’차종 수를 내림차순으로 정렬해 출력하시오.\n",
        "( nunique )\n"
      ],
      "metadata": {
        "id": "9447C5YT0G1C"
      }
    },
    {
      "cell_type": "code",
      "source": [
        "mpg.groupby('category')['cty'].mean().sort_values(ascending=False)\n",
        "mpg.groupby('manufacturer')['hwy'].mean().sort_values(ascending=False).head(3)\n",
        "mpg[mpg['category'] == 'compact'].groupby('manufacturer')['model'].count().sort_values(ascending=False)"
      ],
      "metadata": {
        "id": "jxm4EDR-n3vC"
      },
      "execution_count": null,
      "outputs": []
    }
  ]
}