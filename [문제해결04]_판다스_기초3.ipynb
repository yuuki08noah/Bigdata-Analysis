{
  "nbformat": 4,
  "nbformat_minor": 0,
  "metadata": {
    "colab": {
      "provenance": [],
      "include_colab_link": true
    },
    "kernelspec": {
      "name": "python3",
      "display_name": "Python 3"
    },
    "language_info": {
      "name": "python"
    }
  },
  "cells": [
    {
      "cell_type": "markdown",
      "metadata": {
        "id": "view-in-github",
        "colab_type": "text"
      },
      "source": [
        "<a href=\"https://colab.research.google.com/github/yuuki08noah/Bigdata-Analysis/blob/master/%5B%EB%AC%B8%EC%A0%9C%ED%95%B4%EA%B2%B004%5D_%ED%8C%90%EB%8B%A4%EC%8A%A4_%EA%B8%B0%EC%B4%883.ipynb\" target=\"_parent\"><img src=\"https://colab.research.google.com/assets/colab-badge.svg\" alt=\"Open In Colab\"/></a>"
      ]
    },
    {
      "cell_type": "code",
      "source": [
        "# 데이터 준비\n",
        "import pandas as pd\n",
        "import numpy as np\n",
        "data = {\n",
        "    \"메뉴\":['아메리카노', '카페라떼', '카페모카', '카푸치노', '에스프레소', '밀크티', '녹차', '딴짓커피'],\n",
        "    \"가격\":[4500.0, 5000.0, 5500.0, 5000.0, 4000.0, 5900.0, 5300.0, 2000 ],\n",
        "    \"칼로리\":[10, 110, 250, 110, 20, 210, 0, 20],\n",
        "    \"원산지\":['콜롬비아', np.nan, '과테말라','과테말라', np.nan, np.nan, np.nan, np.nan]\n",
        "}\n",
        "df = pd.DataFrame(data)\n",
        "df.info()"
      ],
      "metadata": {
        "id": "4TcUXnkifC5D"
      },
      "execution_count": null,
      "outputs": []
    },
    {
      "cell_type": "markdown",
      "metadata": {
        "id": "1P9xjj8YkSBf"
      },
      "source": [
        "## 결측치 처리"
      ]
    },
    {
      "cell_type": "code",
      "source": [
        "df.isnull()"
      ],
      "metadata": {
        "id": "cX60WBVRDfo8"
      },
      "execution_count": null,
      "outputs": []
    },
    {
      "cell_type": "code",
      "metadata": {
        "id": "dZ5Ep3LQDxi1"
      },
      "source": [
        "# 컬럼별 결측치 확인\n",
        "df.isnull().sum()"
      ],
      "execution_count": null,
      "outputs": []
    },
    {
      "cell_type": "code",
      "source": [
        "# 컬럼별 결측치 확인\n",
        "df.isna().sum()"
      ],
      "metadata": {
        "id": "TT7zRmaeCria"
      },
      "execution_count": null,
      "outputs": []
    },
    {
      "cell_type": "code",
      "metadata": {
        "id": "RGdmKLSbDxla"
      },
      "source": [
        "# 결측값 채우기\n",
        "df['원산지'].fillna('코스타리카', inplace=True)\n",
        "df"
      ],
      "execution_count": null,
      "outputs": []
    },
    {
      "cell_type": "code",
      "metadata": {
        "id": "QUNH3Srok5As"
      },
      "source": [
        "# 문자 변경 : 아메리카노 -> 룽고, 녹차 -> 그린티\n",
        "df.replace('아메리카노', '룽고', inplace=True)\n",
        "df.replace('녹차','그린티', inplace=True)\n",
        "df"
      ],
      "execution_count": null,
      "outputs": []
    },
    {
      "cell_type": "code",
      "metadata": {
        "id": "B9CB-PGxFiCl"
      },
      "source": [
        "change = {'룽고':'아메리카노', '그린티':'녹차'}\n",
        "df.replace(change, inplace=True)\n",
        "df"
      ],
      "execution_count": null,
      "outputs": []
    },
    {
      "cell_type": "code",
      "metadata": {
        "id": "QHrYVNM_78lu"
      },
      "source": [
        "# loc로 값 변경하기\n",
        "df.loc[6, '원산지'] = '대한민국'\n",
        "df.tail(3)"
      ],
      "execution_count": null,
      "outputs": []
    },
    {
      "cell_type": "code",
      "metadata": {
        "id": "dyuMEZ9M8TGa"
      },
      "source": [
        "# 이벤트가 전체 1000으로 변경\n",
        "df.loc[1:2, '이벤트가'] = 1000\n",
        "df.head()"
      ],
      "execution_count": null,
      "outputs": []
    },
    {
      "cell_type": "code",
      "source": [
        "df.to_csv(\"cafe4.csv\", index=False)"
      ],
      "metadata": {
        "id": "Mh7bgXOsam5N"
      },
      "execution_count": null,
      "outputs": []
    },
    {
      "cell_type": "markdown",
      "source": [
        "## 문자열"
      ],
      "metadata": {
        "id": "Ppl4bKyhVpg3"
      }
    },
    {
      "cell_type": "code",
      "source": [
        "import pandas as pd\n",
        "df = pd.DataFrame({'A': ['데이터 분석', '기본 학습서', '퇴근 후 열공'],\n",
        "                   'B': [10, 20, 30],\n",
        "                   'C': ['ab cd', 'AB CD', 'ab cd ']\n",
        "                   })\n",
        "df"
      ],
      "metadata": {
        "id": "60iKGhzTWn51"
      },
      "execution_count": null,
      "outputs": []
    },
    {
      "cell_type": "code",
      "source": [
        "df['A'] = df['A'].replace('분석', '시각화')\n",
        "df"
      ],
      "metadata": {
        "id": "60fjxAGeWL_i"
      },
      "execution_count": null,
      "outputs": []
    },
    {
      "cell_type": "code",
      "source": [
        "df['A'] = df['A'].str.replace('분석', '시각화')\n",
        "df"
      ],
      "metadata": {
        "id": "5yjV9qvCXSKD"
      },
      "execution_count": null,
      "outputs": []
    },
    {
      "cell_type": "code",
      "source": [
        "df['B'] = df['B'].replace(10, 100)\n",
        "df"
      ],
      "metadata": {
        "id": "e8f9sGv5WEjh"
      },
      "execution_count": null,
      "outputs": []
    },
    {
      "cell_type": "code",
      "source": [
        "# 에러\n",
        "# df['B'] = df['B'].str.replace(20, 200)\n",
        "# print(df)"
      ],
      "metadata": {
        "id": "tlzY5qzVWElz"
      },
      "execution_count": null,
      "outputs": []
    },
    {
      "cell_type": "code",
      "source": [
        "# 문자열 분리\n",
        "df['A'].str.split()"
      ],
      "metadata": {
        "id": "ywrWca_AWEoC"
      },
      "execution_count": null,
      "outputs": []
    },
    {
      "cell_type": "code",
      "source": [
        "df['A'].str.split()[0]"
      ],
      "metadata": {
        "id": "Uq5tvhKTWEql"
      },
      "execution_count": null,
      "outputs": []
    },
    {
      "cell_type": "code",
      "source": [
        "df['D'] = df['A'].str.split().str[0]\n",
        "df"
      ],
      "metadata": {
        "id": "X5ZM42Q3WEvB"
      },
      "execution_count": null,
      "outputs": []
    },
    {
      "cell_type": "code",
      "source": [
        "# 문자 검색\n",
        "df['A'].str.contains('기본')"
      ],
      "metadata": {
        "id": "lOIKsV4bWEyE"
      },
      "execution_count": null,
      "outputs": []
    },
    {
      "cell_type": "code",
      "source": [
        "df['기본포함유무'] = df['A'].str.contains('기본')\n",
        "df"
      ],
      "metadata": {
        "id": "mhyJfGtHb7iV"
      },
      "execution_count": null,
      "outputs": []
    },
    {
      "cell_type": "code",
      "source": [
        "menu = pd.Series(['맛난버거 세트', '매운 치킨버거', '더블 치즈버거'])\n",
        "menu.isin(['맛난버거 세트', '더블 치즈버거'])"
      ],
      "metadata": {
        "id": "czuN-m0fBsrZ"
      },
      "execution_count": null,
      "outputs": []
    },
    {
      "cell_type": "code",
      "source": [
        "menu.str.contains('세트')"
      ],
      "metadata": {
        "id": "G84AzAJ9Bs0H"
      },
      "execution_count": null,
      "outputs": []
    },
    {
      "cell_type": "code",
      "source": [
        "df['문자길이'] = df['A'].str.len()\n",
        "df"
      ],
      "metadata": {
        "id": "vM6YVDfScIFE"
      },
      "execution_count": null,
      "outputs": []
    },
    {
      "cell_type": "code",
      "source": [
        "'AB cd' == 'ab CD'"
      ],
      "metadata": {
        "id": "mWZU6-sxc6UY"
      },
      "execution_count": null,
      "outputs": []
    },
    {
      "cell_type": "code",
      "source": [
        "df['C'] = df['C'].str.lower()\n",
        "df['C']"
      ],
      "metadata": {
        "id": "tTPHWQTFcRlw"
      },
      "execution_count": null,
      "outputs": []
    },
    {
      "cell_type": "code",
      "source": [
        "df['C'] = df['C'].str.upper()\n",
        "df['C']"
      ],
      "metadata": {
        "id": "i6HwdFOkcxf_"
      },
      "execution_count": null,
      "outputs": []
    },
    {
      "cell_type": "code",
      "source": [
        "df['C'] == 'AB CD'"
      ],
      "metadata": {
        "id": "ALcJ9DHYewaW"
      },
      "execution_count": null,
      "outputs": []
    },
    {
      "cell_type": "code",
      "source": [
        "df['C'] = df['C'].str.lower()\n",
        "df['C'] = df['C'].str.replace(\" \",\"\")\n",
        "df['C']"
      ],
      "metadata": {
        "id": "hnRs8QmgdOUi"
      },
      "execution_count": null,
      "outputs": []
    },
    {
      "cell_type": "code",
      "source": [
        "df['C'].str[1:3]"
      ],
      "metadata": {
        "id": "yAOR6GpNWft6"
      },
      "execution_count": null,
      "outputs": []
    },
    {
      "cell_type": "code",
      "source": [
        "df['C'][1:3]"
      ],
      "metadata": {
        "id": "hanV9aJEWNIR"
      },
      "execution_count": null,
      "outputs": []
    },
    {
      "cell_type": "markdown",
      "metadata": {
        "id": "2u2hAx2lk2ao"
      },
      "source": [
        "## 내장함수\n",
        "- 데이터 핸들링을 위한 판다스 기초1(EDA) 부분에서 일부 내장함수를 학습했고, 그외 함수에 대해 살펴봄"
      ]
    },
    {
      "cell_type": "code",
      "source": [
        "df = pd.read_csv(\"cafe4.csv\")\n",
        "df.head(2)"
      ],
      "metadata": {
        "id": "nM7K7xx_axA9"
      },
      "execution_count": null,
      "outputs": []
    },
    {
      "cell_type": "code",
      "metadata": {
        "id": "7hLL1VGeroVK"
      },
      "source": [
        "print(len(df))\n",
        "print(df.shape[0])"
      ],
      "execution_count": null,
      "outputs": []
    },
    {
      "cell_type": "code",
      "source": [
        "cond = df['가격'] > 5000\n",
        "\n",
        "#sum으로 조건에 맞는 개수 구하기\n",
        "print(sum(cond))\n",
        "\n",
        "#len으로 조건에 맞는 개수 구하기\n",
        "print(len(df[cond]))"
      ],
      "metadata": {
        "id": "gFnudhFuOrG6"
      },
      "execution_count": null,
      "outputs": []
    },
    {
      "cell_type": "code",
      "source": [
        "df.sum(numeric_only=True)"
      ],
      "metadata": {
        "id": "hHimepThxe3_"
      },
      "execution_count": null,
      "outputs": []
    },
    {
      "cell_type": "code",
      "source": [
        "df.sum(axis=1, numeric_only=True)"
      ],
      "metadata": {
        "id": "3UiMOCqwyCoj"
      },
      "execution_count": null,
      "outputs": []
    },
    {
      "cell_type": "code",
      "metadata": {
        "id": "d6XCTaY4TfEK"
      },
      "source": [
        "print(\"최대값: \",df['가격'].max())\n",
        "print(\"최소값: \",df['가격'].min())\n",
        "print(\"평균값: \",df['가격'].mean())\n",
        "print(\"중앙값: \",df['가격'].median())\n",
        "print(\"합계: \",df['가격'].sum())\n",
        "print(\"표준편차: \",df['가격'].std())\n",
        "print(\"분산: \",df['가격'].var())"
      ],
      "execution_count": null,
      "outputs": []
    },
    {
      "cell_type": "code",
      "metadata": {
        "id": "IO6WZjwWhWFm"
      },
      "source": [
        "# 분위수\n",
        "print(\"분위수 25% 값\", df['가격'].quantile(.25))\n",
        "print(\"분위수 75% 값\", df['가격'].quantile(.75))"
      ],
      "execution_count": null,
      "outputs": []
    },
    {
      "cell_type": "code",
      "metadata": {
        "id": "pGc1v9rsjRsG"
      },
      "source": [
        "# 하위 25% 데이터\n",
        "cond = df['가격'].quantile(.25) > df['가격']\n",
        "df[cond]"
      ],
      "execution_count": null,
      "outputs": []
    },
    {
      "cell_type": "code",
      "metadata": {
        "id": "5HPN7rDtisI3"
      },
      "source": [
        "# 상위 25% 데이터\n",
        "cond = df['가격'].quantile(.75) < df['가격']\n",
        "df[cond]"
      ],
      "execution_count": null,
      "outputs": []
    },
    {
      "cell_type": "code",
      "metadata": {
        "id": "dtg3bAmRpFGz"
      },
      "source": [
        "# 최빈값 구하기\n",
        "df['원산지'].mode()[0]"
      ],
      "execution_count": null,
      "outputs": []
    },
    {
      "cell_type": "code",
      "source": [
        "df['가격'].idxmax()"
      ],
      "metadata": {
        "id": "rflRYfpDAvcW"
      },
      "execution_count": null,
      "outputs": []
    },
    {
      "cell_type": "code",
      "source": [
        "max_ind = df['가격'].idxmax()\n",
        "df.loc[max_ind]"
      ],
      "metadata": {
        "id": "78RDV-yeA1Ul"
      },
      "execution_count": null,
      "outputs": []
    },
    {
      "cell_type": "code",
      "source": [
        "# df.loc[max_ind, '메뉴'] # 추천 방법\n",
        "df.loc[max_ind]['메뉴'] # 다른 방법"
      ],
      "metadata": {
        "id": "3WcJJuLTbyDj"
      },
      "execution_count": null,
      "outputs": []
    },
    {
      "cell_type": "code",
      "source": [
        "df.nlargest(3, '가격')"
      ],
      "metadata": {
        "id": "YwMttFOwXA93"
      },
      "execution_count": null,
      "outputs": []
    },
    {
      "cell_type": "code",
      "source": [
        "df.nsmallest(2, '가격')"
      ],
      "metadata": {
        "id": "NvhL61JlFwKE"
      },
      "execution_count": null,
      "outputs": []
    },
    {
      "cell_type": "code",
      "metadata": {
        "id": "QeLU60tFmNj4"
      },
      "source": [
        "# apply 적용해서 새로운 컬럼 생성 (칼로리 컬럼 활용)\n",
        "def cal(x):\n",
        "    if x >= 100:\n",
        "        return \"No\"\n",
        "    else:\n",
        "        return \"Yes\"\n",
        "\n",
        "df['먹어도 될까요'] = df['칼로리'].apply(cal)\n",
        "df"
      ],
      "execution_count": null,
      "outputs": []
    },
    {
      "cell_type": "code",
      "source": [
        "import pandas as pd\n",
        "df = pd.DataFrame({'Name': {0: '쿼카', 1: '알파카', 2: '시바견'},\n",
        "                   '수학': {0: 90, 1: 93, 2: 85},\n",
        "                   '영어': {0: 92, 1: 84, 2: 86},\n",
        "                   '국어': {0: 91, 1: 94, 2: 83},})\n",
        "\n",
        "df"
      ],
      "metadata": {
        "id": "vKQrV7D0T_Zr"
      },
      "execution_count": null,
      "outputs": []
    },
    {
      "cell_type": "code",
      "source": [
        "pd.melt(df, id_vars=['Name'])"
      ],
      "metadata": {
        "id": "MnPPQa1fUTtu"
      },
      "execution_count": null,
      "outputs": []
    },
    {
      "cell_type": "code",
      "source": [
        "pd.melt(df, id_vars=['Name'], value_vars=['수학', '영어'])"
      ],
      "metadata": {
        "id": "Q2C-X4lVUZZu"
      },
      "execution_count": null,
      "outputs": []
    },
    {
      "cell_type": "markdown",
      "source": [
        "**[연습문제]**\n",
        "\n",
        "데이터 파일 다운로드 >>  [cafe_review.csv](https://drive.google.com/file/d/1jyxbuLb55gUD0UcW85KOYJgdNQvS90q8/view?usp=sharing)\n",
        "\n",
        "1. 결측치 처리 (isnull, fillna, loc 등)\n",
        "전체 결측치가 존재하는 열의 개수를 출력하세요.\n",
        "\n",
        "원산지 컬럼의 결측값을 \"케냐\"로 채우세요.\n",
        "\n",
        "이벤트가 컬럼의 결측값을 3000으로 채우세요.\n",
        "\n",
        "카푸치노의 원산지를 \"베트남\"으로 수정하세요. (loc 사용)\n",
        "\n",
        "칼로리가 100 이상인 메뉴에 대해 이벤트가를 2000으로 변경하세요.\n"
      ],
      "metadata": {
        "id": "wbhcA9U8VfPs"
      }
    },
    {
      "cell_type": "code",
      "source": [],
      "metadata": {
        "id": "tnGnUgniheLR"
      },
      "execution_count": null,
      "outputs": []
    },
    {
      "cell_type": "markdown",
      "source": [
        "2. 문자열 처리 (replace, split, contains, str.len 등)\n",
        "'아메리카노'를 '룽고', '녹차'를 '그린티'로 바꾸세요.\n",
        "\n",
        "변경한 이름을 다시 원래대로 되돌리세요.\n",
        "\n",
        "메뉴 이름 중 '카페'가 포함된 메뉴는 어떤 것인지 Boolean Series로 확인하세요.\n",
        "\n",
        "메뉴 이름의 글자 수를 나타내는 메뉴길이 컬럼을 추가하세요.\n",
        "\n",
        "글자 수가 4자 이상인 메뉴만 필터링해서 출력하세요."
      ],
      "metadata": {
        "id": "gLtWl-iWea1R"
      }
    },
    {
      "cell_type": "code",
      "source": [],
      "metadata": {
        "id": "5Fkt0_Y0hfGA"
      },
      "execution_count": null,
      "outputs": []
    },
    {
      "cell_type": "markdown",
      "source": [
        "3. 내장 함수 및 통계 함수 활용\n",
        "가격의 최댓값, 최솟값, 평균값, 중앙값을 각각 출력하세요.\n",
        "\n",
        "가격의 25% 분위수 이하인 메뉴만 출력하세요.\n",
        "\n",
        "이벤트가 컬럼의 최빈값을 구하세요.\n",
        "\n",
        "칼로리가 100 이상이면 \"No\", 아니면 \"Yes\"를 나타내는 먹어도 될까요 컬럼을 추가하세요. (apply)\n",
        "\n",
        "가격 상위 3개 메뉴의 이름과 가격을 출력하세요."
      ],
      "metadata": {
        "id": "pDtNibf9efK6"
      }
    },
    {
      "cell_type": "code",
      "source": [],
      "metadata": {
        "id": "14T74WWehfqZ"
      },
      "execution_count": null,
      "outputs": []
    },
    {
      "cell_type": "markdown",
      "source": [
        "4. 프로젝트 주제: 이벤트가와 실제 가격 분석을 통한 마케팅 타겟 추출\n",
        "목표: 이벤트 가격이 제공된 메뉴 중 실제 할인률이 높은 상품을 추출\n",
        "\n",
        "과제:\n",
        "\n",
        "이벤트가가 존재하는 메뉴만 필터링\n",
        "\n",
        "할인율 = (가격 - 이벤트가) / 가격 컬럼 추가\n",
        "\n",
        "할인율이 30% 이상인 메뉴 추출\n",
        "\n",
        "해당 메뉴들을 가격순으로 정렬 후 시각화 (bar plot)"
      ],
      "metadata": {
        "id": "X1ML-z1VeihB"
      }
    },
    {
      "cell_type": "code",
      "source": [],
      "metadata": {
        "id": "B6QpZ2l4hgWS"
      },
      "execution_count": null,
      "outputs": []
    }
  ]
}