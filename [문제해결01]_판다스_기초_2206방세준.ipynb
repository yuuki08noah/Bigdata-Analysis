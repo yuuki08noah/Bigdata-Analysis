{
  "nbformat": 4,
  "nbformat_minor": 0,
  "metadata": {
    "colab": {
      "provenance": [],
      "include_colab_link": true
    },
    "kernelspec": {
      "name": "python3",
      "display_name": "Python 3"
    },
    "language_info": {
      "name": "python"
    }
  },
  "cells": [
    {
      "cell_type": "markdown",
      "metadata": {
        "id": "view-in-github",
        "colab_type": "text"
      },
      "source": [
        "<a href=\"https://colab.research.google.com/github/yuuki08noah/Bigdata-Analysis/blob/master/%5B%EB%AC%B8%EC%A0%9C%ED%95%B4%EA%B2%B001%5D_%ED%8C%90%EB%8B%A4%EC%8A%A4_%EA%B8%B0%EC%B4%88_2206%EB%B0%A9%EC%84%B8%EC%A4%80.ipynb\" target=\"_parent\"><img src=\"https://colab.research.google.com/assets/colab-badge.svg\" alt=\"Open In Colab\"/></a>"
      ]
    },
    {
      "cell_type": "code",
      "execution_count": 2,
      "metadata": {
        "id": "dotQ2WDPJDVE",
        "colab": {
          "base_uri": "https://localhost:8080/"
        },
        "outputId": "3f675fb3-65ef-47a6-e9d8-81e553131a8f"
      },
      "outputs": [
        {
          "output_type": "stream",
          "name": "stdout",
          "text": [
            "0\n",
            "25\n",
            "100\n",
            "24.4\n",
            "1000\n",
            "높이가 1000일 때 기온은 19.00입니다.\n"
          ]
        }
      ],
      "source": [
        "x1 = float(input())\n",
        "y1 = float(input())\n",
        "x2 = float(input())\n",
        "y2 = float(input())\n",
        "\n",
        "x = float(input())\n",
        "\n",
        "y = (y2-y1)/(x2-x1)*(x-x1)+y1\n",
        "\n",
        "print( '높이가 %d일 때 기온은 %.2f입니다.'%(x, y))"
      ]
    },
    {
      "cell_type": "code",
      "source": [
        "from sklearn.linear_model import LinearRegression\n",
        "import pandas as df\n",
        "import matplotlib.pyplot as plt\n",
        "import numpy as np\n",
        "data = df.DataFrame( { \"altitude\":[0,100,200,300, 400], \"temperature\":[25, 24.4, 23.8, 23.2, 22.6] } )\n",
        "\n",
        "X = data['altitude']\n",
        "Y = data['temperature']\n",
        "lineFit = LinearRegression()\n",
        "lineFit.fit(X.values.reshape(-1,1), Y)\n",
        "print('기울기:', lineFit.coef_)\n",
        "print('절편:', lineFit.intercept_)\n",
        "print( lineFit.predict(np.array([1000]).reshape(-1,1)) )\n",
        "\n",
        "plt.plot(X, Y, '*')\n",
        "plt.plot(X,lineFit.predict(X.values.reshape(-1,1)))\n",
        "plt.show()\n"
      ],
      "metadata": {
        "id": "aOnbpOqIJXA2",
        "colab": {
          "base_uri": "https://localhost:8080/",
          "height": 484
        },
        "outputId": "b94ac505-ee3b-45f1-eeb5-c1b9a38a700e"
      },
      "execution_count": 3,
      "outputs": [
        {
          "output_type": "stream",
          "name": "stdout",
          "text": [
            "기울기: [-0.006]\n",
            "절편: 25.0\n",
            "[19.]\n"
          ]
        },
        {
          "output_type": "display_data",
          "data": {
            "text/plain": [
              "<Figure size 640x480 with 1 Axes>"
            ],
            "image/png": "[encoded data removed]"
          },
          "metadata": {}
        }
      ]
    },
    {
      "cell_type": "code",
      "source": [
        "import pandas as pd\n",
        "url = 'https://www.koreabaseball.com/Record/Player/HitterBasic/BasicOld.aspx'\n",
        "tables = pd.read_html( url )\n",
        "tables[0].to_excel(\"KBO_타자기록.xlsx\")\n",
        "df = pd.DataFrame( tables[0] )\n",
        "print( df )"
      ],
      "metadata": {
        "id": "v4ShqU2uKR9p",
        "colab": {
          "base_uri": "https://localhost:8080/"
        },
        "outputId": "76e16b56-6e82-4183-dbb4-75417af7a663"
      },
      "execution_count": 4,
      "outputs": [
        {
          "output_type": "stream",
          "name": "stdout",
          "text": [
            "    순위   선수명   팀명    AVG   G  PA  AB   H  2B  3B  HR  RBI  SB  CS  BB  HBP  \\\n",
            "0    1   오명진   두산  0.407   9  30  27  11   2   1   0    5   1   1   3    0   \n",
            "1    2   구본혁   LG  0.368   9  28  19   7   0   0   0    1   2   0   8    1   \n",
            "2    3   임종찬   한화  0.348   8  24  23   8   2   0   0    0   1   0   1    0   \n",
            "3    4   김민석   두산  0.333   9  35  30  10   2   0   0    4   1   0   4    0   \n",
            "4    4   김민혁   KT  0.333   7  21  18   6   2   0   0    4   0   0   2    0   \n",
            "5    6   정준재  SSG  0.320   8  30  25   8   0   0   0    3   1   0   4    0   \n",
            "6    7  레이예스   롯데  0.304   8  24  23   7   1   0   0    2   0   0   1    0   \n",
            "7    8   나승엽   롯데  0.300   8  24  20   6   1   0   1    4   0   0   4    0   \n",
            "8    9   윤동희   롯데  0.273   8  24  22   6   1   0   1    2   0   0   2    0   \n",
            "9    9   전준우   롯데  0.273   8  24  22   6   1   0   1    2   0   1   2    0   \n",
            "10  11   송찬의   LG  0.261   9  29  23   6   0   0   0    5   1   1   4    2   \n",
            "11  12   박지환  SSG  0.250   8  30  24   6   1   0   0    4   1   0   4    0   \n",
            "12  13   강승호   두산  0.240   9  27  25   6   2   1   0    4   0   0   2    0   \n",
            "13  13   케이브   두산  0.240   9  28  25   6   2   0   0    1   0   0   3    0   \n",
            "14  15   문정빈   LG  0.214   9  32  28   6   0   0   0    5   0   0   2    0   \n",
            "15  16   박해민   LG  0.200   9  27  20   4   1   0   0    3   0   0   6    1   \n",
            "16  16   전태현   키움  0.200  10  34  30   6   0   0   1    4   0   0   3    0   \n",
            "17  18   홍창기   LG  0.192   9  28  26   5   0   0   0    0   2   0   2    0   \n",
            "18  19   신민재   LG  0.185   9  29  27   5   1   0   0    1   0   2   1    1   \n",
            "19  20   박민우   NC  0.182   8  25  22   4   1   0   1    2   0   0   2    1   \n",
            "20  21   심재훈   삼성  0.154   9  28  26   4   0   0   1    4   0   1   2    0   \n",
            "21  22   박성한  SSG  0.143   7  25  21   3   1   0   0    0   0   0   4    0   \n",
            "22  23   김재환   두산  0.130   8  29  23   3   0   0   1    3   0   0   6    0   \n",
            "23  24   고명준  SSG  0.120   7  27  25   3   1   0   0    0   0   0   2    0   \n",
            "24  25   홍현빈   삼성  0.105   9  27  19   2   0   0   1    5   0   0   7    1   \n",
            "25  26   손호영   롯데  0.091   8  24  22   2   1   0   0    2   0   0   1    0   \n",
            "\n",
            "    SO  GDP  E  \n",
            "0    4    0  0  \n",
            "1    0    1  1  \n",
            "2    5    0  0  \n",
            "3    6    0  0  \n",
            "4    0    0  0  \n",
            "5    8    0  0  \n",
            "6    2    0  0  \n",
            "7    2    2  0  \n",
            "8    3    0  0  \n",
            "9    3    1  0  \n",
            "10   4    0  0  \n",
            "11   3    0  0  \n",
            "12   6    0  0  \n",
            "13   5    1  0  \n",
            "14   6    0  2  \n",
            "15   4    0  0  \n",
            "16  11    0  1  \n",
            "17   5    1  0  \n",
            "18   6    1  0  \n",
            "19   2    2  0  \n",
            "20   8    0  2  \n",
            "21   5    2  2  \n",
            "22   9    0  0  \n",
            "23  10    1  0  \n",
            "24   5    0  1  \n",
            "25   4    1  1  \n"
          ]
        }
      ]
    },
    {
      "cell_type": "code",
      "source": [
        "#시리즈 : pd.Series\n",
        "#1. 다음과 같은 데이터를 이용해 pd.Series를 생성하세요.\n",
        "# 값: [10, 20, 30, 40, 50]\n",
        "# 인덱스: ['a', 'b', 'c', 'd', 'e']\n",
        "import pandas as pd\n",
        "values = [10, 20, 30, 40, 50]\n",
        "index = ['a', 'b', 'c', 'd', 'e']\n",
        "series = pd.Series(data=values, index=index)\n",
        "print(series)\n",
        "# 2. 아래와 같은 시리즈를 생성하고 값을 출력하세요.\n",
        "# 값: ['사과', '바나나', '포도', '오렌지']\n",
        "# 인덱스: [101, 102, 103, 104]\n",
        "\n",
        "values = ['사과', '바나나', '포도', '오렌지']\n",
        "index = [101, 102, 103, 104]\n",
        "series = pd.Series(data=values)\n",
        "print(series)\n"
      ],
      "metadata": {
        "id": "rRFZM5grLoQb",
        "colab": {
          "base_uri": "https://localhost:8080/"
        },
        "outputId": "cf20b68f-80a0-43e2-f7ad-71cb09eed4fa"
      },
      "execution_count": 7,
      "outputs": [
        {
          "output_type": "stream",
          "name": "stdout",
          "text": [
            "a    10\n",
            "b    20\n",
            "c    30\n",
            "d    40\n",
            "e    50\n",
            "dtype: int64\n",
            "0     사과\n",
            "1    바나나\n",
            "2     포도\n",
            "3    오렌지\n",
            "dtype: object\n"
          ]
        }
      ]
    },
    {
      "cell_type": "code",
      "source": [
        "# 데이터 프레임\n",
        "# 1. 다음 데이터를 이용해 데이터프레임을 생성하세요.\n",
        "# 이름\t나이\t성별\n",
        "# 김철수\t20\t남\n",
        "# 이영희\t22\t여\n",
        "# 박민수\t21\t남\n",
        "\n",
        "data = {\n",
        "    '이름': ['김철수', '이영희', '박민수'],\n",
        "    '성별': ['남', '여', '남'],\n",
        "    '나이': [20, 22, 21]\n",
        "}\n",
        "df = pd.DataFrame(data)\n",
        "print(df)\n",
        "# 2. 아래 데이터를 사용해 데이터 프레임을 생성하고 컬럼 이름을 'Product', 'Price', 'Stock'으로 설정하세요.\n",
        "# Product: ['Notebook', 'Smartphone', 'Tablet']\n",
        "# Price: [1200, 800, 500]\n",
        "# Stock: [50, 100, 70]\n",
        "\n",
        "data = {\n",
        "    'product': ['Notebook', 'Smartphone', 'Tablet'],\n",
        "    'price': [1200, 800, 500],\n",
        "    'stock': [50, 100, 70]\n",
        "}\n",
        "df = pd.DataFrame(data)\n",
        "print(df)"
      ],
      "metadata": {
        "id": "PeRBxfosaa9O",
        "colab": {
          "base_uri": "https://localhost:8080/"
        },
        "outputId": "a13c373b-16a2-4be6-a38d-f10543528fdb"
      },
      "execution_count": 9,
      "outputs": [
        {
          "output_type": "stream",
          "name": "stdout",
          "text": [
            "    이름 성별  나이\n",
            "0  김철수  남  20\n",
            "1  이영희  여  22\n",
            "2  박민수  남  21\n",
            "      product  price  stock\n",
            "0    Notebook   1200     50\n",
            "1  Smartphone    800    100\n",
            "2      Tablet    500     70\n"
          ]
        }
      ]
    },
    {
      "cell_type": "code",
      "source": [
        "# 시리즈로 데이터 프레임 만들기\n",
        "# 1. 다음 두 개의 시리즈를 이용해 데이터 프레임을 만드세요.\n",
        "\n",
        "# 시리즈 1: ['서울', '부산', '대구', '인천'] (인덱스는 [0, 1, 2, 3])\n",
        "# 시리즈 2: [9500000, 3500000, 2500000, 3000000] (인덱스는 [0, 1, 2, 3])\n",
        "# 데이터 프레임의 컬럼 이름은 '도시', '인구'로 설정하세요.\n",
        "\n",
        "city = ['서울', '부산', '대구', '인천']\n",
        "population = [9500000, 3500000, 2500000, 3000000]\n",
        "index = [0, 1, 2, 3]\n",
        "c_series = pd.Series(data=city, index=index)\n",
        "p_series = pd.Series(data=population, index=index)\n",
        "print(c_series, p_series)\n",
        "\n"
      ],
      "metadata": {
        "id": "INPFNrjGa9rI",
        "colab": {
          "base_uri": "https://localhost:8080/"
        },
        "outputId": "b65cd9b7-19e6-4864-8a0f-bba39347e88c"
      },
      "execution_count": 8,
      "outputs": [
        {
          "output_type": "stream",
          "name": "stdout",
          "text": [
            "0    서울\n",
            "1    부산\n",
            "2    대구\n",
            "3    인천\n",
            "dtype: object 0    9500000\n",
            "1    3500000\n",
            "2    2500000\n",
            "3    3000000\n",
            "dtype: int64\n"
          ]
        }
      ]
    },
    {
      "cell_type": "code",
      "source": [
        "# 딕셔너리로 데이터프레임 만들기\n",
        "# 1. 다음 딕셔너리를 이용해 데이터 프레임을 생성하세요.\n",
        "data = {\n",
        "    '이름': ['김철수', '이영희', '박민수'],\n",
        "    '성별': ['남', '여', '남'],\n",
        "    '나이': [20, 22, 21]\n",
        "}\n",
        "\n",
        "# 2. 다음과 같은 딕셔너리를 이용해 데이터 프레임을 생성하세요.\n",
        "data = {\n",
        "    'Country': ['Korea', 'Japan', 'China', 'USA'],\n",
        "    'Capital': ['Seoul', 'Tokyo', 'Beijing', 'Washington D.C.'],\n",
        "    'Population (M)': [51, 126, 144, 331]\n",
        "}"
      ],
      "metadata": {
        "id": "NCU8FdzdbGEx"
      },
      "execution_count": null,
      "outputs": []
    },
    {
      "cell_type": "code",
      "source": [
        "# 다음 딕셔너리를 데이터프레임으로 만들고, csv 파일로 저장후 다시 불러오는 코드를 작성하시오.\n",
        "data = {\n",
        "    'year':[2016, 2017, 2018],\n",
        "    'GDP rate': [2.8, 3.1, 3.0],\n",
        "    'GDP': ['1.637M', '1.73M', '1.83M' ]\n",
        "}\n",
        "df = pd.DataFrame(data)\n",
        "df.to_csv('gdp.csv', index=False)\n",
        "df = pd.read_csv('gdp.csv')\n",
        "print(df)"
      ],
      "metadata": {
        "id": "BZ4fkKSYbrBQ",
        "colab": {
          "base_uri": "https://localhost:8080/"
        },
        "outputId": "393d1528-0c21-4624-9fe3-d33aaf3684be"
      },
      "execution_count": 10,
      "outputs": [
        {
          "output_type": "stream",
          "name": "stdout",
          "text": [
            "   year  GDP rate     GDP\n",
            "0  2016       2.8  1.637M\n",
            "1  2017       3.1   1.73M\n",
            "2  2018       3.0   1.83M\n"
          ]
        }
      ]
    },
    {
      "cell_type": "code",
      "source": [
        "# 데이터 불러오기 옵션중 2가지 이상을 찾아보고, 그 예시 코드를 제시하시오.\n",
        "pd.read_sql()\n",
        "pd.read_html()\n",
        "pd.read_pickle()\n",
        "pd.read_csv()"
      ],
      "metadata": {
        "id": "v7vwmmYhiXBD"
      },
      "execution_count": null,
      "outputs": []
    },
    {
      "cell_type": "markdown",
      "source": [
        "**1. head() 사용**\n",
        "*   문제 1-1 tips 데이터프레임에서 처음 5개의 행을 출력하세요.\n",
        "*   문제 1-2 tips 데이터프레임에서 처음 10개의 행을 출력하세요.\n",
        "\n",
        "**2. tail() 사용**\n",
        "*   문제 2-1 tips 데이터프레임에서 마지막 5개의 행을 출력하세요.\n",
        "*   문제 2-2 tips 데이터프레임에서 마지막 3개의 행을 출력하세요.\n",
        "\n",
        "**3. shape 사용**\n",
        "*   문제 3-1 tips 데이터프레임의 행의 개수와 열의 개수를 출력하세요.\n",
        "*   문제 3-2 tips 데이터프레임의 총 데이터 개수를 구하세요.\n",
        "힌트: shape의 값을 곱하면 총 데이터 개수를 구할 수 있습니다.\n",
        "\n",
        "**4. info() 사용**\n",
        "*   문제 4-1 tips 데이터프레임의 데이터 타입과 결측치 개수를 확인하세요.\n",
        "*   문제 4-2 각 열의 데이터 타입을 출력하세요.\n",
        "\n",
        "**5. describe() 사용**\n",
        "*   문제 5-1 tips 데이터프레임에서 기술 통계 요약값(평균, 표준편차 등)을 출력하세요.\n",
        "*   문제 5-2 total_bill, tip의 평균값과 중앙값을 출력하세요.\n",
        "\n",
        "**6. corr() 사용**\n",
        "*   문제 6-1 tips 데이터프레임에서 각 수치형 열 간의 상관 계수를 출력하세요.\n",
        "*   문제 6-2 total_bill과 tip의 상관 계수를 출력하세요.\n",
        "\n",
        "**7. nunique() 사용**\n",
        "*   문제 7-1 tips 데이터프레임의 각 열에서 고유값의 개수를 출력하세요.\n",
        "*   문제 7-2 day 열의 고유값 개수를 출력하세요.\n",
        "\n",
        "**8. value_counts() 사용**\n",
        "*   문제 8-1 day 열의 값별 빈도수를 출력하세요.\n",
        "*   문제 8-2 sex 열의 값별 빈도수를 출력하세요.\n"
      ],
      "metadata": {
        "id": "vnp6FR-JmNEP"
      }
    },
    {
      "cell_type": "code",
      "source": [
        "# 탐색적 데이터 분석(EDA)\n",
        "import pandas as pd\n",
        "import seaborn as sns\n",
        "tips = sns.load_dataset(\"tips\")\n",
        "\n",
        "# 1-1\n",
        "print(tips.head())\n",
        "# 1-2\n",
        "print(tips.head(10))\n",
        "\n",
        "# 2-1\n",
        "print(tips.tail())\n",
        "# 2-2\n",
        "print(tips.tail(3))\n",
        "\n",
        "# 3-1\n",
        "print(f\"rows: {tips.shape[0]}, cols: {tips.shape[1]}\")\n",
        "# 3-2\n",
        "print(f\"number of datas: {tips.shape[0]*tips.shape[1]}\")\n",
        "\n",
        "# 4-1\n",
        "print(tips.info())\n",
        "# 4-2\n",
        "print(tips.info(verbose=False))\n",
        "\n",
        "# 5-1\n",
        "print(tips.describe())\n",
        "# 5-2\n",
        "desc = tips[['total_bill', 'tip']].describe()\n",
        "print(f\"total_bill 평균: {desc.loc['mean', 'total_bill']}\")\n",
        "print(f\"total_bill 중앙: {desc.loc['50%', 'total_bill']}\")\n",
        "print(f\"tip 평균: {desc.loc['mean', 'tip']}\")\n",
        "print(f\"tip 중앙: {desc.loc['50%', 'tip']}\")\n",
        "\n",
        "# 6-1\n",
        "print(tips[['total_bill', 'tip']].corr())\n",
        "\n",
        "\n",
        "# 7-1\n",
        "print(tips.nunique())\n",
        "# 7-2\n",
        "print(tips[['day']].nunique())\n",
        "\n",
        "# 8-1\n",
        "print(tips[['day']].value_counts())\n",
        "# 8-2\n",
        "print(tips[['sex']].value_counts())"
      ],
      "metadata": {
        "id": "AhRfxWR5jIyj",
        "colab": {
          "base_uri": "https://localhost:8080/"
        },
        "outputId": "a0e142cd-25b5-467f-c19e-83409bc638ec"
      },
      "execution_count": 38,
      "outputs": [
        {
          "output_type": "stream",
          "name": "stdout",
          "text": [
            "   total_bill   tip     sex smoker  day    time  size\n",
            "0       16.99  1.01  Female     No  Sun  Dinner     2\n",
            "1       10.34  1.66    Male     No  Sun  Dinner     3\n",
            "2       21.01  3.50    Male     No  Sun  Dinner     3\n",
            "3       23.68  3.31    Male     No  Sun  Dinner     2\n",
            "4       24.59  3.61  Female     No  Sun  Dinner     4\n",
            "   total_bill   tip     sex smoker  day    time  size\n",
            "0       16.99  1.01  Female     No  Sun  Dinner     2\n",
            "1       10.34  1.66    Male     No  Sun  Dinner     3\n",
            "2       21.01  3.50    Male     No  Sun  Dinner     3\n",
            "3       23.68  3.31    Male     No  Sun  Dinner     2\n",
            "4       24.59  3.61  Female     No  Sun  Dinner     4\n",
            "5       25.29  4.71    Male     No  Sun  Dinner     4\n",
            "6        8.77  2.00    Male     No  Sun  Dinner     2\n",
            "7       26.88  3.12    Male     No  Sun  Dinner     4\n",
            "8       15.04  1.96    Male     No  Sun  Dinner     2\n",
            "9       14.78  3.23    Male     No  Sun  Dinner     2\n",
            "     total_bill   tip     sex smoker   day    time  size\n",
            "239       29.03  5.92    Male     No   Sat  Dinner     3\n",
            "240       27.18  2.00  Female    Yes   Sat  Dinner     2\n",
            "241       22.67  2.00    Male    Yes   Sat  Dinner     2\n",
            "242       17.82  1.75    Male     No   Sat  Dinner     2\n",
            "243       18.78  3.00  Female     No  Thur  Dinner     2\n",
            "     total_bill   tip     sex smoker   day    time  size\n",
            "241       22.67  2.00    Male    Yes   Sat  Dinner     2\n",
            "242       17.82  1.75    Male     No   Sat  Dinner     2\n",
            "243       18.78  3.00  Female     No  Thur  Dinner     2\n",
            "rows: 244, cols: 7\n",
            "number of datas: 1708\n",
            "<class 'pandas.core.frame.DataFrame'>\n",
            "RangeIndex: 244 entries, 0 to 243\n",
            "Data columns (total 7 columns):\n",
            " #   Column      Non-Null Count  Dtype   \n",
            "---  ------      --------------  -----   \n",
            " 0   total_bill  244 non-null    float64 \n",
            " 1   tip         244 non-null    float64 \n",
            " 2   sex         244 non-null    category\n",
            " 3   smoker      244 non-null    category\n",
            " 4   day         244 non-null    category\n",
            " 5   time        244 non-null    category\n",
            " 6   size        244 non-null    int64   \n",
            "dtypes: category(4), float64(2), int64(1)\n",
            "memory usage: 7.4 KB\n",
            "None\n",
            "<class 'pandas.core.frame.DataFrame'>\n",
            "RangeIndex: 244 entries, 0 to 243\n",
            "Columns: 7 entries, total_bill to size\n",
            "dtypes: category(4), float64(2), int64(1)\n",
            "memory usage: 7.4 KB\n",
            "None\n",
            "       total_bill         tip        size\n",
            "count  244.000000  244.000000  244.000000\n",
            "mean    19.785943    2.998279    2.569672\n",
            "std      8.902412    1.383638    0.951100\n",
            "min      3.070000    1.000000    1.000000\n",
            "25%     13.347500    2.000000    2.000000\n",
            "50%     17.795000    2.900000    2.000000\n",
            "75%     24.127500    3.562500    3.000000\n",
            "max     50.810000   10.000000    6.000000\n",
            "total_bill 평균: 19.78594262295082\n",
            "total_bill 중앙: 17.795\n",
            "tip 평균: 2.99827868852459\n",
            "tip 중앙: 2.9\n",
            "     tip  tip\n",
            "tip  1.0  1.0\n",
            "tip  1.0  1.0\n",
            "total_bill    229\n",
            "tip           123\n",
            "sex             2\n",
            "smoker          2\n",
            "day             4\n",
            "time            2\n",
            "size            6\n",
            "dtype: int64\n",
            "day    4\n",
            "dtype: int64\n",
            "day \n",
            "Sat     87\n",
            "Sun     76\n",
            "Thur    62\n",
            "Fri     19\n",
            "Name: count, dtype: int64\n",
            "sex   \n",
            "Male      157\n",
            "Female     87\n",
            "Name: count, dtype: int64\n"
          ]
        }
      ]
    },
    {
      "cell_type": "code",
      "source": [
        "# 데이터 추출 연습\n",
        "# 열단위, 행단위( index, 행번호 이해 필요)\n",
        "tips1 = tips.drop([2])\n",
        "tips1.head()\n",
        "\n",
        "# print(tips1.loc[2])\n",
        "# print(tips1.iloc[2])\n",
        "tips.columns\n",
        "tips[['tip', 'day']]\n",
        "tips1 = tips.drop([2])\n",
        "tips1.iloc[2]\n",
        "tips.loc[[1, 3, 5]]\n",
        "tips.iloc[-1]\n",
        "tips[0:3]\n",
        "tips.loc[0:3]\n",
        "tips.iloc[0:3]\n",
        "tips.loc[0:3, ['tip', 'day']]\n",
        "tips.loc[0, 'tip']\n",
        "tips.iloc[3:5, 0:2]\n",
        "tips.iloc[[1, 2, 4], [0, 2]]\n",
        "tips.iloc[1:3, :]\n",
        "tips.iloc[1, 1]\n",
        "tips.iat[1, 1]\n",
        "# 조건 이용 추출\n",
        "\n",
        "\n",
        "# 파생 변수 만들기\n",
        "\n",
        "\n",
        "# 데이터 변"
      ],
      "metadata": {
        "id": "AZHnrPh0sGat",
        "colab": {
          "base_uri": "https://localhost:8080/"
        },
        "outputId": "02d4142b-b477-45ce-cc7d-e1b518ab6f90"
      },
      "execution_count": 62,
      "outputs": [
        {
          "output_type": "execute_result",
          "data": {
            "text/plain": [
              "np.float64(1.66)"
            ]
          },
          "metadata": {},
          "execution_count": 62
        }
      ]
    },
    {
      "cell_type": "code",
      "source": [],
      "metadata": {
        "id": "oqbrfgmNfT7T"
      },
      "execution_count": null,
      "outputs": []
    }
  ]
}